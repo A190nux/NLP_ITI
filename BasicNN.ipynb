{
  "cells": [
    {
      "cell_type": "markdown",
      "metadata": {
        "id": "view-in-github",
        "colab_type": "text"
      },
      "source": [
        "<a href=\"https://colab.research.google.com/github/A190nux/BasicNN/blob/main/BasicNN.ipynb\" target=\"_parent\"><img src=\"https://colab.research.google.com/assets/colab-badge.svg\" alt=\"Open In Colab\"/></a>"
      ]
    },
    {
      "cell_type": "markdown",
      "metadata": {
        "id": "aaCTDideKMe0"
      },
      "source": [
        "# PyTorch training loop and Testing loop\n",
        "\n",
        "For the training loop, we'll build the following steps:\n",
        "\n",
        "1. Forward pass\n",
        "2. Calculate the loss\n",
        "3. \tZero gradients\n",
        "4. Perform backpropagation on the loss\n",
        "5. Update the optimizer (gradient descent)"
      ]
    },
    {
      "cell_type": "code",
      "execution_count": null,
      "metadata": {
        "id": "BnXLe6-gLijJ"
      },
      "outputs": [],
      "source": [
        "import torch\n",
        "import numpy as np\n",
        "import seaborn as sns\n",
        "from torch import nn\n",
        "from tqdm.autonotebook import tqdm\n",
        "from torch.utils.data import Dataset , DataLoader\n",
        "import matplotlib.pyplot as plt\n",
        "\n",
        "\n",
        "torch.manual_seed(42)\n",
        "\n",
        "X = np.linspace(0,20,num=200)\n",
        "y = X + np.sin(X)*2 + np.random.normal(size=X.shape)"
      ]
    },
    {
      "cell_type": "code",
      "execution_count": null,
      "metadata": {
        "colab": {
          "base_uri": "https://localhost:8080/",
          "height": 448
        },
        "id": "Vm5axwtbE3-j",
        "outputId": "d0b362ed-9204-4d1d-bc99-4655996f32ac"
      },
      "outputs": [
        {
          "data": {
            "text/plain": [
              "<Axes: >"
            ]
          },
          "execution_count": 2,
          "metadata": {},
          "output_type": "execute_result"
        },
        {
          "data": {
            "image/png": "[encoded data removed]",
            "text/plain": [
              "<Figure size 640x480 with 1 Axes>"
            ]
          },
          "metadata": {},
          "output_type": "display_data"
        }
      ],
      "source": [
        "sns.scatterplot(x=X,y=y,color='Blue', label='Data')"
      ]
    },
    {
      "cell_type": "code",
      "execution_count": null,
      "metadata": {
        "id": "2Zh5W6r7E36j"
      },
      "outputs": [],
      "source": [
        "\n",
        "class Simple1DRegressionDataset(Dataset):\n",
        "    def __init__(self,X,y):\n",
        "        super(Simple1DRegressionDataset,self).__init__()\n",
        "        self.X = X.reshape(-1,1)\n",
        "        self.y = y.reshape(-1,1)\n",
        "\n",
        "    def __getitem__(self,index):\n",
        "        return torch.tensor(self.X[index,:],dtype=torch.float32) , torch.tensor(self.y[index,:],dtype=torch.float32)\n",
        "\n",
        "    def __len__(self):\n",
        "        return self.X.shape[0]"
      ]
    },
    {
      "cell_type": "code",
      "execution_count": null,
      "metadata": {
        "id": "IT2wvxUME31b"
      },
      "outputs": [],
      "source": [
        "df = Simple1DRegressionDataset(X,y)\n"
      ]
    },
    {
      "cell_type": "code",
      "execution_count": null,
      "metadata": {
        "colab": {
          "base_uri": "https://localhost:8080/"
        },
        "id": "nGuq6xVUGutr",
        "outputId": "92d002e3-d533-489e-a993-82ae71c97ca7"
      },
      "outputs": [
        {
          "data": {
            "text/plain": [
              "(tensor([0.]), tensor([-0.4516]))"
            ]
          },
          "execution_count": 5,
          "metadata": {},
          "output_type": "execute_result"
        }
      ],
      "source": [
        "df[0]\n"
      ]
    },
    {
      "cell_type": "code",
      "execution_count": null,
      "metadata": {
        "id": "5FvH4p6pGxEA"
      },
      "outputs": [],
      "source": [
        "training_loader = DataLoader(Simple1DRegressionDataset(X,y),shuffle=True)"
      ]
    },
    {
      "cell_type": "code",
      "execution_count": null,
      "metadata": {
        "colab": {
          "base_uri": "https://localhost:8080/"
        },
        "id": "IWUOGAouHAmq",
        "outputId": "bbfa62b0-92aa-4274-b0f4-bd3dc353f42b"
      },
      "outputs": [
        {
          "data": {
            "text/plain": [
              "[tensor([[8.8442]]), tensor([[8.1429]])]"
            ]
          },
          "execution_count": 7,
          "metadata": {},
          "output_type": "execute_result"
        }
      ],
      "source": [
        "data_point = next(iter(training_loader))\n",
        "data_point\n"
      ]
    },
    {
      "cell_type": "code",
      "execution_count": null,
      "metadata": {
        "id": "qFCODGjkNLWm"
      },
      "outputs": [],
      "source": [
        "class Model(nn.Module):\n",
        "  def __init__(self, in_features, out_features):\n",
        "    super().__init__()\n",
        "    self.linear1 = nn.Linear(in_features, 2)\n",
        "    self.relu1 = nn.ReLU()\n",
        "    self.linear2 = nn.Linear(2, 4)\n",
        "    self.relu2 = nn.ReLU()\n",
        "    self.linear3 = nn.Linear(4, 4)\n",
        "    self.relu3 = nn.ReLU()\n",
        "    self.linear4 = nn.Linear(4, 4)\n",
        "    self.relu4 = nn.ReLU()\n",
        "    self.linear5 = nn.Linear(4, 4)\n",
        "    self.relu5 = nn.ReLU()\n",
        "    self.linear6 = nn.Linear(4, 4)\n",
        "    self.relu6 = nn.ReLU()\n",
        "    self.linear7 = nn.Linear(4, 4)\n",
        "    self.relu7 = nn.ReLU()\n",
        "    self.linear8 = nn.Linear(4, 2)\n",
        "    self.relu8 = nn.ReLU()\n",
        "    self.linearOut = nn.Linear(2, out_features)\n",
        "    self.reluOut = nn.ReLU()\n",
        "\n",
        "  def forward(self, x):\n",
        "    x = self.linear1(x)\n",
        "    x = self.relu1(x)\n",
        "    x = self.linear2(x)\n",
        "    x = self.relu2(x)\n",
        "    x = self.linear3(x)\n",
        "    x = self.relu3(x)\n",
        "    x = self.linear4(x)\n",
        "    x = self.relu4(x)\n",
        "    x = self.linear5(x)\n",
        "    x = self.relu5(x)\n",
        "    x = self.linear6(x)\n",
        "    x = self.relu6(x)\n",
        "    x = self.linear7(x)\n",
        "    x = self.relu7(x)\n",
        "    x = self.linear8(x)\n",
        "    x = self.relu8(x)\n",
        "    x = self.linearOut(x)\n",
        "    x = self.reluOut(x)\n",
        "    return x"
      ]
    },
    {
      "cell_type": "code",
      "execution_count": null,
      "metadata": {
        "colab": {
          "background_save": true
        },
        "id": "WGHvuzGtIcYo"
      },
      "outputs": [],
      "source": [
        "  # construct the model using Linear block\n",
        "in_features = 1\n",
        "out_features = 1\n",
        "model_2 = Model(in_features,out_features)\n"
      ]
    },
    {
      "cell_type": "code",
      "execution_count": null,
      "metadata": {
        "colab": {
          "background_save": true
        },
        "id": "oF2u-u1_Iq2c"
      },
      "outputs": [],
      "source": [
        "loss_fn = nn.MSELoss()"
      ]
    },
    {
      "cell_type": "code",
      "execution_count": null,
      "metadata": {
        "colab": {
          "background_save": true
        },
        "id": "f3wZFVjAIsPX"
      },
      "outputs": [],
      "source": [
        "optimizer = torch.optim.SGD(params=model_2.parameters(),lr=0.001)"
      ]
    },
    {
      "cell_type": "code",
      "execution_count": null,
      "metadata": {
        "colab": {
          "background_save": true
        },
        "id": "pSYtrkSdNsHB"
      },
      "outputs": [],
      "source": [
        "def train_simple_network(model,\n",
        "                        loss_fn,\n",
        "                        training_loader,\n",
        "                        epochs=5,\n",
        "                        device='cpu',\n",
        "                        optimizer=optimizer):\n",
        "    optimizer = torch.optim.SGD(params=model.parameters(),lr=0.001)\n",
        "    model.to(device)\n",
        "    losses = []\n",
        "    for epoch in tqdm(range(epochs), desc=\"Epochs\"):\n",
        "        model = model.train()\n",
        "        running_loss = 0\n",
        "        for inputs , labels in training_loader:\n",
        "            inputs = inputs.to(device)\n",
        "            labels = labels.to(device)\n",
        "            optimizer.zero_grad()\n",
        "            y_pred = model(inputs)\n",
        "            loss = loss_fn(y_pred, labels)\n",
        "            loss.backward()\n",
        "            optimizer.step()\n",
        "            running_loss += loss.item()\n",
        "        losses.append(running_loss)\n",
        "\n",
        "    # Plotting the loss graph\n",
        "    plt.plot(losses)\n",
        "    plt.xlabel('Epoch')\n",
        "    plt.ylabel('Loss')\n",
        "    plt.title('Training Loss')\n",
        "    plt.show()\n"
      ]
    },
    {
      "cell_type": "code",
      "execution_count": null,
      "metadata": {
        "colab": {
          "base_uri": "https://localhost:8080/",
          "height": 35
        },
        "id": "tIER-Z6rKg6c",
        "outputId": "e8f3eba8-1f54-44d2-ffc7-cfd5d7fd347b"
      },
      "outputs": [
        {
          "data": {
            "application/vnd.google.colaboratory.intrinsic+json": {
              "type": "string"
            },
            "text/plain": [
              "'cpu'"
            ]
          },
          "execution_count": 90,
          "metadata": {},
          "output_type": "execute_result"
        }
      ],
      "source": [
        "device = 'cuda' if torch.cuda.is_available() else 'cpu'\n",
        "device"
      ]
    },
    {
      "cell_type": "code",
      "execution_count": 101,
      "metadata": {
        "colab": {
          "base_uri": "https://localhost:8080/",
          "height": 504,
          "referenced_widgets": [
            "58552b5473624bdcb9ed5e383b982acb",
            "c23e7dc211a44703b6ead85d43d90e0b",
            "5068647a21fc4ae684a6354393852420",
            "4aa248c7eae440fea075e8b039d0e8e9",
            "d94ec18e5f26493ea23eed21ed5eb000",
            "f98136a2dd7a4da5a5acd4febf4ff7bd",
            "eb13c45b80234ed1bf5914e4311e0753",
            "065318ec076449148e97a0725d24e58c",
            "34b155b1592c46539847728126d89fce",
            "13850d9e9c0a41bd9a49c2fceb9a84e7",
            "6ea8236b0e314e1f808bbf6d977c60b2"
          ]
        },
        "id": "bMa9hYcwKkR0",
        "outputId": "e1ef2a6c-4d8b-4ba1-a02c-3731a2ee9266"
      },
      "outputs": [
        {
          "output_type": "display_data",
          "data": {
            "text/plain": [
              "Epochs:   0%|          | 0/100 [00:00<?, ?it/s]"
            ],
            "application/vnd.jupyter.widget-view+json": {
              "version_major": 2,
              "version_minor": 0,
              "model_id": "58552b5473624bdcb9ed5e383b982acb"
            }
          },
          "metadata": {}
        },
        {
          "output_type": "display_data",
          "data": {
            "text/plain": [
              "<Figure size 640x480 with 1 Axes>"
            ],
            "image/png": "[encoded data removed]"
          },
          "metadata": {}
        }
      ],
      "source": [
        "train_simple_network(model_2,\n",
        "                loss_fn,\n",
        "                training_loader,\n",
        "                device=device,\n",
        "                epochs=100\n",
        "                )\n"
      ]
    },
    {
      "cell_type": "code",
      "execution_count": null,
      "metadata": {
        "id": "cySOBEuSKutl"
      },
      "outputs": [],
      "source": [
        "# lets try our model\n",
        "model_2.to('cpu')\n",
        "\n",
        "model_2.eval()\n",
        "\n",
        "with torch.inference_mode():\n",
        "    y_pred_m2 = model_2(torch.tensor(X,dtype=torch.float32).reshape(-1,1)).cpu().numpy()"
      ]
    },
    {
      "cell_type": "code",
      "execution_count": null,
      "metadata": {
        "colab": {
          "base_uri": "https://localhost:8080/",
          "height": 448
        },
        "id": "LNlE_oJwLDqT",
        "outputId": "2da33710-1dc0-431a-a248-a59ef12b6c87"
      },
      "outputs": [
        {
          "data": {
            "text/plain": [
              "<Axes: >"
            ]
          },
          "execution_count": 83,
          "metadata": {},
          "output_type": "execute_result"
        },
        {
          "data": {
            "image/png": "[encoded data removed]",
            "text/plain": [
              "<Figure size 640x480 with 1 Axes>"
            ]
          },
          "metadata": {},
          "output_type": "display_data"
        }
      ],
      "source": [
        "sns.scatterplot(x=X,y=y , color='blue',label='Data')\n",
        "sns.lineplot(x=X,y=y_pred_m2.ravel(),color='red',label='Linear model')\n"
      ]
    },
    {
      "cell_type": "code",
      "execution_count": null,
      "metadata": {
        "id": "1p4yPWdaLFus"
      },
      "outputs": [],
      "source": []
    }
  ],
  "metadata": {
    "colab": {
      "provenance": [],
      "include_colab_link": true
    },
    "kernelspec": {
      "display_name": "Python 3",
      "name": "python3"
    },
    "language_info": {
      "name": "python"
    },
    "widgets": {
      "application/vnd.jupyter.widget-state+json": {
        "58552b5473624bdcb9ed5e383b982acb": {
          "model_module": "@jupyter-widgets/controls",
          "model_name": "HBoxModel",
          "model_module_version": "1.5.0",
          "state": {
            "_dom_classes": [],
            "_model_module": "@jupyter-widgets/controls",
            "_model_module_version": "1.5.0",
            "_model_name": "HBoxModel",
            "_view_count": null,
            "_view_module": "@jupyter-widgets/controls",
            "_view_module_version": "1.5.0",
            "_view_name": "HBoxView",
            "box_style": "",
            "children": [
              "IPY_MODEL_c23e7dc211a44703b6ead85d43d90e0b",
              "IPY_MODEL_5068647a21fc4ae684a6354393852420",
              "IPY_MODEL_4aa248c7eae440fea075e8b039d0e8e9"
            ],
            "layout": "IPY_MODEL_d94ec18e5f26493ea23eed21ed5eb000"
          }
        },
        "c23e7dc211a44703b6ead85d43d90e0b": {
          "model_module": "@jupyter-widgets/controls",
          "model_name": "HTMLModel",
          "model_module_version": "1.5.0",
          "state": {
            "_dom_classes": [],
            "_model_module": "@jupyter-widgets/controls",
            "_model_module_version": "1.5.0",
            "_model_name": "HTMLModel",
            "_view_count": null,
            "_view_module": "@jupyter-widgets/controls",
            "_view_module_version": "1.5.0",
            "_view_name": "HTMLView",
            "description": "",
            "description_tooltip": null,
            "layout": "IPY_MODEL_f98136a2dd7a4da5a5acd4febf4ff7bd",
            "placeholder": "​",
            "style": "IPY_MODEL_eb13c45b80234ed1bf5914e4311e0753",
            "value": "Epochs: 100%"
          }
        },
        "5068647a21fc4ae684a6354393852420": {
          "model_module": "@jupyter-widgets/controls",
          "model_name": "FloatProgressModel",
          "model_module_version": "1.5.0",
          "state": {
            "_dom_classes": [],
            "_model_module": "@jupyter-widgets/controls",
            "_model_module_version": "1.5.0",
            "_model_name": "FloatProgressModel",
            "_view_count": null,
            "_view_module": "@jupyter-widgets/controls",
            "_view_module_version": "1.5.0",
            "_view_name": "ProgressView",
            "bar_style": "success",
            "description": "",
            "description_tooltip": null,
            "layout": "IPY_MODEL_065318ec076449148e97a0725d24e58c",
            "max": 100,
            "min": 0,
            "orientation": "horizontal",
            "style": "IPY_MODEL_34b155b1592c46539847728126d89fce",
            "value": 100
          }
        },
        "4aa248c7eae440fea075e8b039d0e8e9": {
          "model_module": "@jupyter-widgets/controls",
          "model_name": "HTMLModel",
          "model_module_version": "1.5.0",
          "state": {
            "_dom_classes": [],
            "_model_module": "@jupyter-widgets/controls",
            "_model_module_version": "1.5.0",
            "_model_name": "HTMLModel",
            "_view_count": null,
            "_view_module": "@jupyter-widgets/controls",
            "_view_module_version": "1.5.0",
            "_view_name": "HTMLView",
            "description": "",
            "description_tooltip": null,
            "layout": "IPY_MODEL_13850d9e9c0a41bd9a49c2fceb9a84e7",
            "placeholder": "​",
            "style": "IPY_MODEL_6ea8236b0e314e1f808bbf6d977c60b2",
            "value": " 100/100 [00:29&lt;00:00,  3.16it/s]"
          }
        },
        "d94ec18e5f26493ea23eed21ed5eb000": {
          "model_module": "@jupyter-widgets/base",
          "model_name": "LayoutModel",
          "model_module_version": "1.2.0",
          "state": {
            "_model_module": "@jupyter-widgets/base",
            "_model_module_version": "1.2.0",
            "_model_name": "LayoutModel",
            "_view_count": null,
            "_view_module": "@jupyter-widgets/base",
            "_view_module_version": "1.2.0",
            "_view_name": "LayoutView",
            "align_content": null,
            "align_items": null,
            "align_self": null,
            "border": null,
            "bottom": null,
            "display": null,
            "flex": null,
            "flex_flow": null,
            "grid_area": null,
            "grid_auto_columns": null,
            "grid_auto_flow": null,
            "grid_auto_rows": null,
            "grid_column": null,
            "grid_gap": null,
            "grid_row": null,
            "grid_template_areas": null,
            "grid_template_columns": null,
            "grid_template_rows": null,
            "height": null,
            "justify_content": null,
            "justify_items": null,
            "left": null,
            "margin": null,
            "max_height": null,
            "max_width": null,
            "min_height": null,
            "min_width": null,
            "object_fit": null,
            "object_position": null,
            "order": null,
            "overflow": null,
            "overflow_x": null,
            "overflow_y": null,
            "padding": null,
            "right": null,
            "top": null,
            "visibility": null,
            "width": null
          }
        },
        "f98136a2dd7a4da5a5acd4febf4ff7bd": {
          "model_module": "@jupyter-widgets/base",
          "model_name": "LayoutModel",
          "model_module_version": "1.2.0",
          "state": {
            "_model_module": "@jupyter-widgets/base",
            "_model_module_version": "1.2.0",
            "_model_name": "LayoutModel",
            "_view_count": null,
            "_view_module": "@jupyter-widgets/base",
            "_view_module_version": "1.2.0",
            "_view_name": "LayoutView",
            "align_content": null,
            "align_items": null,
            "align_self": null,
            "border": null,
            "bottom": null,
            "display": null,
            "flex": null,
            "flex_flow": null,
            "grid_area": null,
            "grid_auto_columns": null,
            "grid_auto_flow": null,
            "grid_auto_rows": null,
            "grid_column": null,
            "grid_gap": null,
            "grid_row": null,
            "grid_template_areas": null,
            "grid_template_columns": null,
            "grid_template_rows": null,
            "height": null,
            "justify_content": null,
            "justify_items": null,
            "left": null,
            "margin": null,
            "max_height": null,
            "max_width": null,
            "min_height": null,
            "min_width": null,
            "object_fit": null,
            "object_position": null,
            "order": null,
            "overflow": null,
            "overflow_x": null,
            "overflow_y": null,
            "padding": null,
            "right": null,
            "top": null,
            "visibility": null,
            "width": null
          }
        },
        "eb13c45b80234ed1bf5914e4311e0753": {
          "model_module": "@jupyter-widgets/controls",
          "model_name": "DescriptionStyleModel",
          "model_module_version": "1.5.0",
          "state": {
            "_model_module": "@jupyter-widgets/controls",
            "_model_module_version": "1.5.0",
            "_model_name": "DescriptionStyleModel",
            "_view_count": null,
            "_view_module": "@jupyter-widgets/base",
            "_view_module_version": "1.2.0",
            "_view_name": "StyleView",
            "description_width": ""
          }
        },
        "065318ec076449148e97a0725d24e58c": {
          "model_module": "@jupyter-widgets/base",
          "model_name": "LayoutModel",
          "model_module_version": "1.2.0",
          "state": {
            "_model_module": "@jupyter-widgets/base",
            "_model_module_version": "1.2.0",
            "_model_name": "LayoutModel",
            "_view_count": null,
            "_view_module": "@jupyter-widgets/base",
            "_view_module_version": "1.2.0",
            "_view_name": "LayoutView",
            "align_content": null,
            "align_items": null,
            "align_self": null,
            "border": null,
            "bottom": null,
            "display": null,
            "flex": null,
            "flex_flow": null,
            "grid_area": null,
            "grid_auto_columns": null,
            "grid_auto_flow": null,
            "grid_auto_rows": null,
            "grid_column": null,
            "grid_gap": null,
            "grid_row": null,
            "grid_template_areas": null,
            "grid_template_columns": null,
            "grid_template_rows": null,
            "height": null,
            "justify_content": null,
            "justify_items": null,
            "left": null,
            "margin": null,
            "max_height": null,
            "max_width": null,
            "min_height": null,
            "min_width": null,
            "object_fit": null,
            "object_position": null,
            "order": null,
            "overflow": null,
            "overflow_x": null,
            "overflow_y": null,
            "padding": null,
            "right": null,
            "top": null,
            "visibility": null,
            "width": null
          }
        },
        "34b155b1592c46539847728126d89fce": {
          "model_module": "@jupyter-widgets/controls",
          "model_name": "ProgressStyleModel",
          "model_module_version": "1.5.0",
          "state": {
            "_model_module": "@jupyter-widgets/controls",
            "_model_module_version": "1.5.0",
            "_model_name": "ProgressStyleModel",
            "_view_count": null,
            "_view_module": "@jupyter-widgets/base",
            "_view_module_version": "1.2.0",
            "_view_name": "StyleView",
            "bar_color": null,
            "description_width": ""
          }
        },
        "13850d9e9c0a41bd9a49c2fceb9a84e7": {
          "model_module": "@jupyter-widgets/base",
          "model_name": "LayoutModel",
          "model_module_version": "1.2.0",
          "state": {
            "_model_module": "@jupyter-widgets/base",
            "_model_module_version": "1.2.0",
            "_model_name": "LayoutModel",
            "_view_count": null,
            "_view_module": "@jupyter-widgets/base",
            "_view_module_version": "1.2.0",
            "_view_name": "LayoutView",
            "align_content": null,
            "align_items": null,
            "align_self": null,
            "border": null,
            "bottom": null,
            "display": null,
            "flex": null,
            "flex_flow": null,
            "grid_area": null,
            "grid_auto_columns": null,
            "grid_auto_flow": null,
            "grid_auto_rows": null,
            "grid_column": null,
            "grid_gap": null,
            "grid_row": null,
            "grid_template_areas": null,
            "grid_template_columns": null,
            "grid_template_rows": null,
            "height": null,
            "justify_content": null,
            "justify_items": null,
            "left": null,
            "margin": null,
            "max_height": null,
            "max_width": null,
            "min_height": null,
            "min_width": null,
            "object_fit": null,
            "object_position": null,
            "order": null,
            "overflow": null,
            "overflow_x": null,
            "overflow_y": null,
            "padding": null,
            "right": null,
            "top": null,
            "visibility": null,
            "width": null
          }
        },
        "6ea8236b0e314e1f808bbf6d977c60b2": {
          "model_module": "@jupyter-widgets/controls",
          "model_name": "DescriptionStyleModel",
          "model_module_version": "1.5.0",
          "state": {
            "_model_module": "@jupyter-widgets/controls",
            "_model_module_version": "1.5.0",
            "_model_name": "DescriptionStyleModel",
            "_view_count": null,
            "_view_module": "@jupyter-widgets/base",
            "_view_module_version": "1.2.0",
            "_view_name": "StyleView",
            "description_width": ""
          }
        }
      }
    }
  },
  "nbformat": 4,
  "nbformat_minor": 0
}